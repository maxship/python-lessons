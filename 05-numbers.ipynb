{
 "cells": [
  {
   "cell_type": "code",
   "execution_count": 6,
   "metadata": {},
   "outputs": [
    {
     "name": "stdout",
     "output_type": "stream",
     "text": [
      "84\n",
      "58\n"
     ]
    }
   ],
   "source": [
    "num1 = 39\n",
    "num2 = 45\n",
    "num3 = num1 + 19\n",
    "print(num1 + num2)\n",
    "print(num3)"
   ]
  },
  {
   "cell_type": "code",
   "execution_count": 7,
   "metadata": {},
   "outputs": [
    {
     "name": "stdout",
     "output_type": "stream",
     "text": [
      "240183311320\n",
      "1324831174219073795734\n",
      "15.0\n"
     ]
    }
   ],
   "source": [
    "x1 = 234534543534\n",
    "x2 = 5648767786\n",
    "print(x1 + x2)\n",
    "print(x1*x2 +10)\n",
    "print(num2/3)\n"
   ]
  },
  {
   "cell_type": "code",
   "execution_count": 8,
   "metadata": {},
   "outputs": [
    {
     "name": "stdout",
     "output_type": "stream",
     "text": [
      "1.5\n",
      "0.6\n"
     ]
    }
   ],
   "source": [
    "x1 = 6\n",
    "x2 = 4\n",
    "print(x1 / x2)\n",
    "\n",
    "print(10*3/(5*10))"
   ]
  }
 ],
 "metadata": {
  "interpreter": {
   "hash": "916dbcbb3f70747c44a77c7bcd40155683ae19c65e1c03b4aa3499c5328201f1"
  },
  "kernelspec": {
   "display_name": "Python 3.8.10 64-bit",
   "language": "python",
   "name": "python3"
  },
  "language_info": {
   "codemirror_mode": {
    "name": "ipython",
    "version": 3
   },
   "file_extension": ".py",
   "mimetype": "text/x-python",
   "name": "python",
   "nbconvert_exporter": "python",
   "pygments_lexer": "ipython3",
   "version": "3.8.10"
  },
  "orig_nbformat": 4
 },
 "nbformat": 4,
 "nbformat_minor": 2
}
