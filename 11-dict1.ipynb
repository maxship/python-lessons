{
 "cells": [
  {
   "cell_type": "code",
   "execution_count": 26,
   "metadata": {},
   "outputs": [
    {
     "name": "stdout",
     "output_type": "stream",
     "text": [
      "{'loc_x': 70, 'loc_y': 50, 'color': 'green', 'health': 100, 'name': 'Mr. Shipitsyn'}\n",
      "\n",
      "=========\n",
      "\n",
      "Location X: 70\n",
      "Location Y: 50\n",
      "Name: Mr. Shipitsyn\n",
      "general\n",
      "\n",
      "=========\n",
      "\n",
      "{'loc_x': 70, 'loc_y': 50, 'color': 'green', 'health': 100, 'name': 'Mr. Shipitsyn'}\n",
      "{'loc_x': 110, 'loc_y': 50, 'color': 'yellow', 'health': 70, 'name': 'Mr. Shipitsyn'}\n",
      "\n",
      "=========\n",
      "\n",
      "dict_keys(['loc_x', 'loc_y', 'color', 'health', 'name'])\n",
      "dict_values([110, 50, 'yellow', 70, 'Mr. Shipitsyn'])\n"
     ]
    }
   ],
   "source": [
    "#--(---Item---)\n",
    "#--(Key)---(Value)\n",
    "\n",
    "enemy = {\n",
    "  'loc_x': 70,\n",
    "  'loc_y': 50,\n",
    "  'color': 'green',\n",
    "  'health': 100,\n",
    "  'name': 'Mr. Shipitsyn',\n",
    "}\n",
    "\n",
    "print(enemy)\n",
    "print('\\n=========\\n')\n",
    "\n",
    "print(\"Location X: \" + str(enemy['loc_x']))\n",
    "print(\"Location Y: \" + str(enemy['loc_y']))\n",
    "print(\"Name: \" + str(enemy['name']))\n",
    "\n",
    "enemy['rank'] = 'general'\n",
    "print(enemy['rank'])\n",
    "print('\\n=========\\n')\n",
    "\n",
    "del enemy['rank']\n",
    "print(enemy)\n",
    "\n",
    "enemy['loc_x'] = enemy['loc_x'] + 40\n",
    "enemy['health'] = enemy['health'] -30\n",
    "if enemy['health'] <80:\n",
    "  enemy['color'] = 'yellow'\n",
    "print(enemy)\n",
    "\n",
    "print('\\n=========\\n')\n",
    "\n",
    "print(enemy.keys())\n",
    "print(enemy.values())\n"
   ]
  }
 ],
 "metadata": {
  "interpreter": {
   "hash": "916dbcbb3f70747c44a77c7bcd40155683ae19c65e1c03b4aa3499c5328201f1"
  },
  "kernelspec": {
   "display_name": "Python 3.8.10 64-bit",
   "language": "python",
   "name": "python3"
  },
  "language_info": {
   "codemirror_mode": {
    "name": "ipython",
    "version": 3
   },
   "file_extension": ".py",
   "mimetype": "text/x-python",
   "name": "python",
   "nbconvert_exporter": "python",
   "pygments_lexer": "ipython3",
   "version": "3.8.10"
  },
  "orig_nbformat": 4
 },
 "nbformat": 4,
 "nbformat_minor": 2
}
