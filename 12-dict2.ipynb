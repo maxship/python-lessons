{
 "cells": [
  {
   "cell_type": "code",
   "execution_count": 13,
   "metadata": {},
   "outputs": [
    {
     "name": "stdout",
     "output_type": "stream",
     "text": [
      "{'loc_x': 70, 'loc_y': 50, 'color': 'green', 'health': 100, 'name': 'Cap. Fantastic', 'awards': ['For courage', 'For loyal service'], 'image': ['image1.png', 'image2.png', 'image3.png']}\n",
      "{'loc_x': 70, 'loc_y': 50, 'color': 'green', 'health': 100, 'name': 'Cap. Fantastic', 'awards': ['For courage', 'For loyal service'], 'image': ['image1.png', 'image2.png', 'image3.png']}\n",
      "{'loc_x': 70, 'loc_y': 50, 'color': 'green', 'health': 100, 'name': 'Cap. Fantastic', 'awards': ['For courage', 'For loyal service'], 'image': ['image1.png', 'image2.png', 'image3.png']}\n",
      "------------\n",
      "{'loc_x': 70, 'loc_y': 50, 'color': 'green', 'health': 100, 'name': 'Mr. Smith', 'awards': ['For courage', 'For loyal service'], 'image': ['image1.png', 'image2.png', 'image3.png']}\n",
      "{'loc_x': 70, 'loc_y': 50, 'color': 'green', 'health': 30, 'name': 'Cap. Fantastic', 'awards': ['For courage', 'For loyal service'], 'image': ['image1.png', 'image2.png', 'image3.png']}\n",
      "{'loc_x': 70, 'loc_y': 50, 'color': 'green', 'health': 100, 'name': 'Cap. Amer', 'awards': ['For courage', 'For loyal service'], 'image': ['image1.png', 'image2.png', 'image3.png']}\n"
     ]
    }
   ],
   "source": [
    "enemy = {\n",
    "  'loc_x': 70,\n",
    "  'loc_y': 50,\n",
    "  'color': 'green',\n",
    "  'health': 100,\n",
    "  'name': 'Cap. Fantastic',\n",
    "  'awards': ['For courage', 'For loyal service'],\n",
    "  'image': ['image1.png', 'image2.png', 'image3.png']\n",
    "}\n",
    "\n",
    "all_enemies = []\n",
    "\n",
    "for x in range(0,3):\n",
    "  all_enemies.append(enemy.copy()) #add copy of item\n",
    "\n",
    "for en in all_enemies:\n",
    "  print(en)\n",
    "\n",
    "all_enemies[1]['health'] = 30\n",
    "all_enemies[2]['name'] = 'Cap. Amer'\n",
    "all_enemies[0]['name'] = 'Mr. Smith'\n",
    "\n",
    "print(\"------------\")\n",
    "\n",
    "for en in all_enemies:\n",
    "  print(en)\n",
    "\n"
   ]
  }
 ],
 "metadata": {
  "interpreter": {
   "hash": "916dbcbb3f70747c44a77c7bcd40155683ae19c65e1c03b4aa3499c5328201f1"
  },
  "kernelspec": {
   "display_name": "Python 3.8.10 64-bit",
   "language": "python",
   "name": "python3"
  },
  "language_info": {
   "codemirror_mode": {
    "name": "ipython",
    "version": 3
   },
   "file_extension": ".py",
   "mimetype": "text/x-python",
   "name": "python",
   "nbconvert_exporter": "python",
   "pygments_lexer": "ipython3",
   "version": "3.8.10"
  },
  "orig_nbformat": 4
 },
 "nbformat": 4,
 "nbformat_minor": 2
}
