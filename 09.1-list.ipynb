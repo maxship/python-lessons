{
 "cells": [
  {
   "cell_type": "code",
   "execution_count": 19,
   "metadata": {},
   "outputs": [
    {
     "data": {
      "text/plain": [
       "'ONE CAPS'"
      ]
     },
     "execution_count": 19,
     "metadata": {},
     "output_type": "execute_result"
    }
   ],
   "source": [
    "my_list = [1,2,3]\n",
    "my_list = ['String', 100, 23.2]\n",
    "len(my_list)\n",
    "mylist = ['one', 'two', 'three']\n",
    "mylist[0]\n",
    "\n",
    "mylist[1:]\n",
    "\n",
    "another_list = ['one', 'two', 'three', 'four']\n",
    "new_list = mylist + another_list\n",
    "new_list\n",
    "new_list[0] = 'ONE CAPS'\n",
    "new_list\n",
    "new_list.append('six')\n",
    "\n",
    "\n",
    "# new_list.pop(0)\n",
    "popped_item = new_list.pop(0)\n",
    "popped_item\n"
   ]
  },
  {
   "cell_type": "code",
   "execution_count": 30,
   "metadata": {},
   "outputs": [
    {
     "data": {
      "text/plain": [
       "[1, 4, 4, 6]"
      ]
     },
     "execution_count": 30,
     "metadata": {},
     "output_type": "execute_result"
    }
   ],
   "source": [
    "new_list = ['a', 'b', 'c', 'd', 'e', 'f', 'g', 'h']\n",
    "num_list = [4,1,4,6]\n",
    "new_list.sort(reverse=True)\n",
    "my_sorted_list = new_list\n",
    "\n",
    "my_sorted_list\n",
    "\n",
    "num_list.sort()\n",
    "num_list"
   ]
  }
 ],
 "metadata": {
  "interpreter": {
   "hash": "916dbcbb3f70747c44a77c7bcd40155683ae19c65e1c03b4aa3499c5328201f1"
  },
  "kernelspec": {
   "display_name": "Python 3.8.10 64-bit",
   "language": "python",
   "name": "python3"
  },
  "language_info": {
   "codemirror_mode": {
    "name": "ipython",
    "version": 3
   },
   "file_extension": ".py",
   "mimetype": "text/x-python",
   "name": "python",
   "nbconvert_exporter": "python",
   "pygments_lexer": "ipython3",
   "version": "3.8.10"
  },
  "orig_nbformat": 4
 },
 "nbformat": 4,
 "nbformat_minor": 2
}
