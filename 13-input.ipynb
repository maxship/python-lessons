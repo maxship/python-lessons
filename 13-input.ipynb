{
 "cells": [
  {
   "cell_type": "code",
   "execution_count": 4,
   "metadata": {},
   "outputs": [
    {
     "name": "stdout",
     "output_type": "stream",
     "text": [
      "Privet, Mr.\n",
      "Sum: 11\n"
     ]
    }
   ],
   "source": [
    "name = input(\"Please, enter your name: \")\n",
    "\n",
    "print(\"Privet, \" + str(name))\n",
    "\n",
    "num1 = input(\"Enter X: \")\n",
    "num2 = input(\"Enter Y: \")\n",
    "\n",
    "num3 = int(num1) + int(num2)\n",
    "print(\"Sum: \" + str(num3))"
   ]
  },
  {
   "cell_type": "code",
   "execution_count": 8,
   "metadata": {},
   "outputs": [
    {
     "name": "stdout",
     "output_type": "stream",
     "text": [
      "sec - Password is not correct\n",
      "123 - Password is not correct\n",
      "Password is correct\n"
     ]
    }
   ],
   "source": [
    "message = \"\"\n",
    "while True:\n",
    "  message = input(\"Enter Password\")\n",
    "  if message == 'secret': \n",
    "    break\n",
    "  print(message + \" - Password is not correct\")\n",
    "\n",
    "print(\"Password is correct\")"
   ]
  },
  {
   "cell_type": "code",
   "execution_count": 21,
   "metadata": {},
   "outputs": [
    {
     "name": "stdout",
     "output_type": "stream",
     "text": [
      "========\n",
      "\n",
      "Items:\n",
      "\n",
      "1\n",
      "2\n",
      "3\n",
      "STOP\n",
      "\n",
      "========\n"
     ]
    }
   ],
   "source": [
    "mylist = []\n",
    "msg = \"\"\n",
    "\n",
    "while msg != 'stop'.upper():\n",
    "  msg = input(\"Enter new item, or 'STOP' to finish\")\n",
    "  mylist.append(msg)\n",
    "\n",
    "# print(msg)\n",
    "\n",
    "print(\"========\\n\\nItems:\\n\")\n",
    "for i in range(0,len(mylist)):\n",
    "    print(mylist[i])\n",
    "print(\"\\n========\")\n"
   ]
  },
  {
   "cell_type": "code",
   "execution_count": null,
   "metadata": {},
   "outputs": [],
   "source": []
  }
 ],
 "metadata": {
  "interpreter": {
   "hash": "916dbcbb3f70747c44a77c7bcd40155683ae19c65e1c03b4aa3499c5328201f1"
  },
  "kernelspec": {
   "display_name": "Python 3.8.10 64-bit",
   "language": "python",
   "name": "python3"
  },
  "language_info": {
   "codemirror_mode": {
    "name": "ipython",
    "version": 3
   },
   "file_extension": ".py",
   "mimetype": "text/x-python",
   "name": "python",
   "nbconvert_exporter": "python",
   "pygments_lexer": "ipython3",
   "version": "3.8.10"
  },
  "orig_nbformat": 4
 },
 "nbformat": 4,
 "nbformat_minor": 2
}
